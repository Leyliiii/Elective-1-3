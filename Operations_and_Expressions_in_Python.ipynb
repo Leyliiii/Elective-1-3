{
  "nbformat": 4,
  "nbformat_minor": 0,
  "metadata": {
    "colab": {
      "name": "Operations and Expressions in Python.ipynb",
      "provenance": [],
      "authorship_tag": "ABX9TyPqXvcCUps2J0dJ8oajkImc",
      "include_colab_link": true
    },
    "kernelspec": {
      "name": "python3",
      "display_name": "Python 3"
    },
    "language_info": {
      "name": "python"
    }
  },
  "cells": [
    {
      "cell_type": "markdown",
      "metadata": {
        "id": "view-in-github",
        "colab_type": "text"
      },
      "source": [
        "<a href=\"https://colab.research.google.com/github/Leyliiii/Elective-1-3/blob/main/Operations_and_Expressions_in_Python.ipynb\" target=\"_parent\"><img src=\"https://colab.research.google.com/assets/colab-badge.svg\" alt=\"Open In Colab\"/></a>"
      ]
    },
    {
      "cell_type": "markdown",
      "source": [
        "##Boolean Operators"
      ],
      "metadata": {
        "id": "fm2gTwIr0Dnq"
      }
    },
    {
      "cell_type": "code",
      "source": [
        "x = 10\n",
        "y = 9\n",
        "\n",
        "#Returns boolean value of either True or False\n",
        "print(x>y)\n",
        "print(x==y)"
      ],
      "metadata": {
        "colab": {
          "base_uri": "https://localhost:8080/"
        },
        "id": "ItsKQukT0JR5",
        "outputId": "886f62a6-1451-45df-debc-1162ef7abcf0"
      },
      "execution_count": 3,
      "outputs": [
        {
          "output_type": "stream",
          "name": "stdout",
          "text": [
            "True\n",
            "False\n"
          ]
        }
      ]
    },
    {
      "cell_type": "code",
      "source": [
        "#bool() function allows to evaluate any value, and return True or False\n",
        "#Almost any value is returned as True if it has some sort of context\n",
        "\n",
        "print(bool(\"Ashley May\"))\n",
        "print(bool(25))\n",
        "\n",
        "#None,empty, 0, and [] returns as False\n",
        "print(bool(None))\n",
        "print(bool())\n",
        "print(bool(0))\n",
        "print(bool([]))"
      ],
      "metadata": {
        "colab": {
          "base_uri": "https://localhost:8080/"
        },
        "id": "c6EDnJTA1SNM",
        "outputId": "b8d670c3-b483-47bc-a8ff-45ceb8fb3b67"
      },
      "execution_count": 9,
      "outputs": [
        {
          "output_type": "stream",
          "name": "stdout",
          "text": [
            "True\n",
            "True\n",
            "False\n",
            "False\n",
            "False\n",
            "False\n"
          ]
        }
      ]
    },
    {
      "cell_type": "markdown",
      "source": [
        "##Defining Function"
      ],
      "metadata": {
        "id": "z6njSeXO2UTa"
      }
    },
    {
      "cell_type": "code",
      "source": [
        "#Functions can return a boolean: \"def myFunction():\"\n",
        "\n",
        "def myFunction():\n",
        "  return True\n",
        "\n",
        "print(myFunction())"
      ],
      "metadata": {
        "colab": {
          "base_uri": "https://localhost:8080/"
        },
        "id": "n_2F7Lvw2Oy3",
        "outputId": "4e59be13-f510-42c9-b68b-dcdd4d970717"
      },
      "execution_count": 8,
      "outputs": [
        {
          "output_type": "stream",
          "name": "stdout",
          "text": [
            "True\n"
          ]
        }
      ]
    },
    {
      "cell_type": "code",
      "source": [
        "def myFunction():\n",
        "  return False\n",
        "\n",
        "if myFunction(): #Will return the value based on the declaration of myFunction\n",
        "  print(\"YES!\")\n",
        "else:\n",
        "  print(\"NO!\")"
      ],
      "metadata": {
        "colab": {
          "base_uri": "https://localhost:8080/"
        },
        "id": "ua_ESub522D5",
        "outputId": "17d88a44-cf59-4fec-9836-17d67b0f8fd4"
      },
      "execution_count": 11,
      "outputs": [
        {
          "output_type": "stream",
          "name": "stdout",
          "text": [
            "NO!\n"
          ]
        }
      ]
    },
    {
      "cell_type": "markdown",
      "source": [
        "## Application 1"
      ],
      "metadata": {
        "id": "88xB9O253UvQ"
      }
    },
    {
      "cell_type": "code",
      "source": [
        "print(10>9)\n",
        "\n",
        "a=6\n",
        "b=7\n",
        "print(a==b)\n",
        "print(a!=a)\n",
        "\n"
      ],
      "metadata": {
        "colab": {
          "base_uri": "https://localhost:8080/"
        },
        "id": "vcl_pFar3WVX",
        "outputId": "c8399c7b-8943-49b8-dd82-2c066bc73517"
      },
      "execution_count": 12,
      "outputs": [
        {
          "output_type": "stream",
          "name": "stdout",
          "text": [
            "True\n",
            "False\n",
            "False\n"
          ]
        }
      ]
    },
    {
      "cell_type": "markdown",
      "source": [
        "##Arithmetic Operations\n"
      ],
      "metadata": {
        "id": "YjuM2tO04tm4"
      }
    },
    {
      "cell_type": "code",
      "source": [
        "#Python Operators are used to perform operations on variables and values\n",
        "#// - floor division ; ** - power\n",
        "\n",
        "#recent values from PREVIOUS cell can be used\n",
        "print(a+b)\n",
        "print(a-b)\n",
        "print(a*b)\n",
        "print(a**b)\n",
        "\n"
      ],
      "metadata": {
        "colab": {
          "base_uri": "https://localhost:8080/"
        },
        "id": "boGKXlLD4yvX",
        "outputId": "ef46888a-800a-4d47-b56a-873bd9536b78"
      },
      "execution_count": 16,
      "outputs": [
        {
          "output_type": "stream",
          "name": "stdout",
          "text": [
            "13\n",
            "-1\n",
            "42\n",
            "279936\n"
          ]
        }
      ]
    },
    {
      "cell_type": "markdown",
      "source": [
        "##Bitwise Operators"
      ],
      "metadata": {
        "id": "xeP10ZbS5j-w"
      }
    },
    {
      "cell_type": "code",
      "source": [
        "#Python Bitwise Operators works on bit-by-bit operations\n",
        "c=60\n",
        "d=13\n",
        "\n",
        "print(c & d)\n",
        "print(c | d)\n",
        "print(c ^ d)\n",
        "print(c << 1) #Shifts the binary sequence to the left\n",
        "print(c << 2)\n",
        "print(c >> 1) #Shifts the binary sequence to the right"
      ],
      "metadata": {
        "colab": {
          "base_uri": "https://localhost:8080/"
        },
        "id": "6CCtKKWV5mBv",
        "outputId": "d3f84d41-830d-4589-f666-c9767d06d661"
      },
      "execution_count": 23,
      "outputs": [
        {
          "output_type": "stream",
          "name": "stdout",
          "text": [
            "12\n",
            "61\n",
            "49\n",
            "120\n",
            "240\n",
            "30\n"
          ]
        }
      ]
    },
    {
      "cell_type": "markdown",
      "source": [
        "##Assignment *Operators*"
      ],
      "metadata": {
        "id": "TyKusfF-746_"
      }
    },
    {
      "cell_type": "code",
      "source": [
        "# c+=3 is the same as c = c+3\n",
        "\n",
        "c+=3\n",
        "c%=3\n",
        "\n",
        "print(c)"
      ],
      "metadata": {
        "colab": {
          "base_uri": "https://localhost:8080/"
        },
        "id": "6uCtAhka77yW",
        "outputId": "b962b25c-7096-4176-d2d7-5e1e7ac5bea3"
      },
      "execution_count": 26,
      "outputs": [
        {
          "output_type": "stream",
          "name": "stdout",
          "text": [
            "0\n"
          ]
        }
      ]
    },
    {
      "cell_type": "markdown",
      "source": [
        "##Logical Operators"
      ],
      "metadata": {
        "id": "jkfLyGod8y1Y"
      }
    },
    {
      "cell_type": "code",
      "source": [
        "c = True\n",
        "d = True\n",
        "\n",
        "print(c and d)\n",
        "not(c and d)"
      ],
      "metadata": {
        "colab": {
          "base_uri": "https://localhost:8080/"
        },
        "id": "PiErSYCn80TN",
        "outputId": "da3443a7-437e-4cec-9c81-8004dbc00403"
      },
      "execution_count": 31,
      "outputs": [
        {
          "output_type": "stream",
          "name": "stdout",
          "text": [
            "True\n"
          ]
        },
        {
          "output_type": "execute_result",
          "data": {
            "text/plain": [
              "False"
            ]
          },
          "metadata": {},
          "execution_count": 31
        }
      ]
    },
    {
      "cell_type": "markdown",
      "source": [
        "##Identity"
      ],
      "metadata": {
        "id": "WkRfQC1v9TX2"
      }
    },
    {
      "cell_type": "code",
      "source": [
        "print(c is d)\n",
        "c is not d"
      ],
      "metadata": {
        "colab": {
          "base_uri": "https://localhost:8080/"
        },
        "id": "6r06h_f19Ui1",
        "outputId": "6e955f07-6c8c-4780-de3b-490fd12badd5"
      },
      "execution_count": 33,
      "outputs": [
        {
          "output_type": "execute_result",
          "data": {
            "text/plain": [
              "False"
            ]
          },
          "metadata": {},
          "execution_count": 33
        }
      ]
    },
    {
      "cell_type": "markdown",
      "source": [
        "## Application 2"
      ],
      "metadata": {
        "id": "tO2tENCD9gLO"
      }
    },
    {
      "cell_type": "code",
      "source": [
        "e = 10\n",
        "f = 5\n",
        "\n",
        "#Implement the operations + , // , and bit shift right >>\n",
        "\n",
        "print(e + f)\n",
        "print(e // f)\n",
        "print(e>>2) #1010 >> 0101 >> 0010\n",
        "print(f>>2) #0101 >> 0010 >> 0001"
      ],
      "metadata": {
        "colab": {
          "base_uri": "https://localhost:8080/"
        },
        "id": "Zkv5Dx3o9h0X",
        "outputId": "3044d9be-b411-434c-ad46-3db1b7f7e55c"
      },
      "execution_count": 43,
      "outputs": [
        {
          "output_type": "stream",
          "name": "stdout",
          "text": [
            "15\n",
            "2\n",
            "2\n",
            "1\n"
          ]
        }
      ]
    }
  ]
}